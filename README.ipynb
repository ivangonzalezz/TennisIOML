{
  "nbformat": 4,
  "nbformat_minor": 0,
  "metadata": {
    "colab": {
      "provenance": []
    },
    "kernelspec": {
      "name": "python3",
      "display_name": "Python 3"
    },
    "language_info": {
      "name": "python"
    }
  },
  "cells": [
    {
      "cell_type": "markdown",
      "source": [
        "# Tennis stroke classification with ML"
      ],
      "metadata": {
        "id": "FPb1XgYZqrLj"
      }
    },
    {
      "cell_type": "markdown",
      "source": [
        "This project details how to classify a tennis player stroke with Machine Learning with data gathered from an Apple Watch.\n",
        "\n",
        "The application required to gather this data is [link text](https://). It needs the following REST API to export data from the device: [link text](https://).\n",
        "\n",
        "It's recommended to run this notebook at [Google Colab](https://colab.research.google.com), where it's built."
      ],
      "metadata": {
        "id": "NO2OHRpIq69n"
      }
    },
    {
      "cell_type": "code",
      "execution_count": 2,
      "metadata": {
        "id": "mOJ8jC0xbz12",
        "cellView": "form"
      },
      "outputs": [],
      "source": [
        "#@title\n",
        "# Import dependencies\n",
        "import pandas as pd\n",
        "import os\n",
        "import matplotlib.pyplot as plt\n",
        "import numpy as np\n",
        "import math\n",
        "import seaborn as sns\n",
        "import matplotlib.ticker as plticker\n",
        "\n",
        "from sklearn.model_selection import train_test_split\n",
        "from sklearn.preprocessing import StandardScaler\n",
        "from sklearn.metrics import accuracy_score, confusion_matrix, ConfusionMatrixDisplay\n",
        "from sklearn.neighbors import KNeighborsClassifier\n",
        "from sklearn.svm import SVC\n",
        "from sklearn.tree import DecisionTreeClassifier\n"
      ]
    },
    {
      "cell_type": "markdown",
      "source": [
        "## Loading data"
      ],
      "metadata": {
        "id": "m5gyNnT3ssGl"
      }
    },
    {
      "cell_type": "markdown",
      "source": [
        "Data is loaded from JSON files. Each of them is a list of sensor data from the device at a given timestamp."
      ],
      "metadata": {
        "id": "jg-56bO_swgs"
      }
    },
    {
      "cell_type": "code",
      "source": [
        "# Check files to load\n",
        "folder = 'trainments'\n",
        "files = os.listdir(folder)\n",
        "\n",
        "# Load data from .json files\n",
        "frames = []\n",
        "for f in files:\n",
        "    if '.json' in f:\n",
        "        d = pd.read_json(f'{folder}/{f}')\n",
        "        frames.append(d)\n",
        "        print(f'Loaded {f}')\n",
        "\n",
        "data = pd.concat(frames, ignore_index=True)"
      ],
      "metadata": {
        "colab": {
          "base_uri": "https://localhost:8080/"
        },
        "id": "tuaY1r2RcNcP",
        "outputId": "b1e8e660-0bc8-477e-e298-cac1d6212f09"
      },
      "execution_count": 3,
      "outputs": [
        {
          "output_type": "stream",
          "name": "stdout",
          "text": [
            "Loaded 20230624_113411.json\n",
            "Loaded 20230625_124903.json\n",
            "Loaded 20230625_125655.json\n",
            "Loaded 20230625_011052.json\n",
            "Loaded 20230625_011216.json\n",
            "Loaded 20230625_011333.json\n",
            "Loaded 20230625_013444.json\n",
            "Loaded 20230625_013330.json\n",
            "Loaded 20230625_013541.json\n",
            "Loaded 20230625_013636.json\n",
            "Loaded 20230625_095026.json\n",
            "Loaded 20230625_094910.json\n",
            "Loaded 20230625_094808.json\n",
            "Loaded 20230625_094747.json\n",
            "Loaded 20230625_094833.json\n",
            "Loaded 20230625_094944.json\n",
            "Loaded 20230625_094722.json\n"
          ]
        }
      ]
    },
    {
      "cell_type": "markdown",
      "source": [
        "## Prepare data"
      ],
      "metadata": {
        "id": "hAb3mrxQt1rh"
      }
    },
    {
      "cell_type": "markdown",
      "source": [
        "Once loaded, we need to solve some tricky aspects present in data:\n",
        "\n",
        "* The timestamp gathered from the device has a precision of a second while it generates almost 50 samples for each second. We should expand the precision adding made up milliseconds to each sample.\n",
        "\n",
        "* Each file contains one kind of movement repeated in a period of time. We need to window the data for each movement done.\n",
        "\n",
        "* In order to train the model, we should convert all movements in summaries for each period. This will let us use more simple algorithms.\n",
        "\n",
        "* Finally, we'll split the data into train and test datasets in order to validate the model created with data not used to create it."
      ],
      "metadata": {
        "id": "fOevXhPHt7ME"
      }
    },
    {
      "cell_type": "markdown",
      "source": [
        "### Timestamp precision"
      ],
      "metadata": {
        "id": "u6zRsOsRwnMc"
      }
    },
    {
      "cell_type": "markdown",
      "source": [
        "First, let's solve the timestamp precision issue. We'll need to know how many samples exist for each second in order to split the second in this number of samples."
      ],
      "metadata": {
        "id": "WFmLhUmHwvOL"
      }
    },
    {
      "cell_type": "code",
      "source": [
        "# Group samples by second\n",
        "grouped_per_second = data.groupby([\"identifier\", \"kind\", \"timestamp\"], as_index=False)['identifier'].count()\n",
        "grouped_per_second['first_index'] = grouped_per_second.apply(lambda row: data[data['timestamp'] == row['timestamp']].index[0], axis=1)\n",
        "\n",
        "grouped_per_second.head()"
      ],
      "metadata": {
        "colab": {
          "base_uri": "https://localhost:8080/",
          "height": 204
        },
        "id": "ZPn3IowlqA9t",
        "outputId": "21fd8246-934b-4b7e-eb54-0465ba2f1ec8"
      },
      "execution_count": 4,
      "outputs": [
        {
          "output_type": "execute_result",
          "data": {
            "text/plain": [
              "    kind           timestamp  identifier  first_index\n",
              "0  Drive 2023-06-24 11:34:11          12            0\n",
              "1  Drive 2023-06-24 11:34:12          50           12\n",
              "2  Drive 2023-06-24 11:34:13          50           62\n",
              "3  Drive 2023-06-24 11:34:14          50          112\n",
              "4  Drive 2023-06-24 11:34:15          51          162"
            ],
            "text/html": [
              "\n",
              "  <div id=\"df-ccbb6a4f-c975-43eb-acf7-ebdc9488bc1e\">\n",
              "    <div class=\"colab-df-container\">\n",
              "      <div>\n",
              "<style scoped>\n",
              "    .dataframe tbody tr th:only-of-type {\n",
              "        vertical-align: middle;\n",
              "    }\n",
              "\n",
              "    .dataframe tbody tr th {\n",
              "        vertical-align: top;\n",
              "    }\n",
              "\n",
              "    .dataframe thead th {\n",
              "        text-align: right;\n",
              "    }\n",
              "</style>\n",
              "<table border=\"1\" class=\"dataframe\">\n",
              "  <thead>\n",
              "    <tr style=\"text-align: right;\">\n",
              "      <th></th>\n",
              "      <th>kind</th>\n",
              "      <th>timestamp</th>\n",
              "      <th>identifier</th>\n",
              "      <th>first_index</th>\n",
              "    </tr>\n",
              "  </thead>\n",
              "  <tbody>\n",
              "    <tr>\n",
              "      <th>0</th>\n",
              "      <td>Drive</td>\n",
              "      <td>2023-06-24 11:34:11</td>\n",
              "      <td>12</td>\n",
              "      <td>0</td>\n",
              "    </tr>\n",
              "    <tr>\n",
              "      <th>1</th>\n",
              "      <td>Drive</td>\n",
              "      <td>2023-06-24 11:34:12</td>\n",
              "      <td>50</td>\n",
              "      <td>12</td>\n",
              "    </tr>\n",
              "    <tr>\n",
              "      <th>2</th>\n",
              "      <td>Drive</td>\n",
              "      <td>2023-06-24 11:34:13</td>\n",
              "      <td>50</td>\n",
              "      <td>62</td>\n",
              "    </tr>\n",
              "    <tr>\n",
              "      <th>3</th>\n",
              "      <td>Drive</td>\n",
              "      <td>2023-06-24 11:34:14</td>\n",
              "      <td>50</td>\n",
              "      <td>112</td>\n",
              "    </tr>\n",
              "    <tr>\n",
              "      <th>4</th>\n",
              "      <td>Drive</td>\n",
              "      <td>2023-06-24 11:34:15</td>\n",
              "      <td>51</td>\n",
              "      <td>162</td>\n",
              "    </tr>\n",
              "  </tbody>\n",
              "</table>\n",
              "</div>\n",
              "      <button class=\"colab-df-convert\" onclick=\"convertToInteractive('df-ccbb6a4f-c975-43eb-acf7-ebdc9488bc1e')\"\n",
              "              title=\"Convert this dataframe to an interactive table.\"\n",
              "              style=\"display:none;\">\n",
              "        \n",
              "  <svg xmlns=\"http://www.w3.org/2000/svg\" height=\"24px\"viewBox=\"0 0 24 24\"\n",
              "       width=\"24px\">\n",
              "    <path d=\"M0 0h24v24H0V0z\" fill=\"none\"/>\n",
              "    <path d=\"M18.56 5.44l.94 2.06.94-2.06 2.06-.94-2.06-.94-.94-2.06-.94 2.06-2.06.94zm-11 1L8.5 8.5l.94-2.06 2.06-.94-2.06-.94L8.5 2.5l-.94 2.06-2.06.94zm10 10l.94 2.06.94-2.06 2.06-.94-2.06-.94-.94-2.06-.94 2.06-2.06.94z\"/><path d=\"M17.41 7.96l-1.37-1.37c-.4-.4-.92-.59-1.43-.59-.52 0-1.04.2-1.43.59L10.3 9.45l-7.72 7.72c-.78.78-.78 2.05 0 2.83L4 21.41c.39.39.9.59 1.41.59.51 0 1.02-.2 1.41-.59l7.78-7.78 2.81-2.81c.8-.78.8-2.07 0-2.86zM5.41 20L4 18.59l7.72-7.72 1.47 1.35L5.41 20z\"/>\n",
              "  </svg>\n",
              "      </button>\n",
              "      \n",
              "  <style>\n",
              "    .colab-df-container {\n",
              "      display:flex;\n",
              "      flex-wrap:wrap;\n",
              "      gap: 12px;\n",
              "    }\n",
              "\n",
              "    .colab-df-convert {\n",
              "      background-color: #E8F0FE;\n",
              "      border: none;\n",
              "      border-radius: 50%;\n",
              "      cursor: pointer;\n",
              "      display: none;\n",
              "      fill: #1967D2;\n",
              "      height: 32px;\n",
              "      padding: 0 0 0 0;\n",
              "      width: 32px;\n",
              "    }\n",
              "\n",
              "    .colab-df-convert:hover {\n",
              "      background-color: #E2EBFA;\n",
              "      box-shadow: 0px 1px 2px rgba(60, 64, 67, 0.3), 0px 1px 3px 1px rgba(60, 64, 67, 0.15);\n",
              "      fill: #174EA6;\n",
              "    }\n",
              "\n",
              "    [theme=dark] .colab-df-convert {\n",
              "      background-color: #3B4455;\n",
              "      fill: #D2E3FC;\n",
              "    }\n",
              "\n",
              "    [theme=dark] .colab-df-convert:hover {\n",
              "      background-color: #434B5C;\n",
              "      box-shadow: 0px 1px 3px 1px rgba(0, 0, 0, 0.15);\n",
              "      filter: drop-shadow(0px 1px 2px rgba(0, 0, 0, 0.3));\n",
              "      fill: #FFFFFF;\n",
              "    }\n",
              "  </style>\n",
              "\n",
              "      <script>\n",
              "        const buttonEl =\n",
              "          document.querySelector('#df-ccbb6a4f-c975-43eb-acf7-ebdc9488bc1e button.colab-df-convert');\n",
              "        buttonEl.style.display =\n",
              "          google.colab.kernel.accessAllowed ? 'block' : 'none';\n",
              "\n",
              "        async function convertToInteractive(key) {\n",
              "          const element = document.querySelector('#df-ccbb6a4f-c975-43eb-acf7-ebdc9488bc1e');\n",
              "          const dataTable =\n",
              "            await google.colab.kernel.invokeFunction('convertToInteractive',\n",
              "                                                     [key], {});\n",
              "          if (!dataTable) return;\n",
              "\n",
              "          const docLinkHtml = 'Like what you see? Visit the ' +\n",
              "            '<a target=\"_blank\" href=https://colab.research.google.com/notebooks/data_table.ipynb>data table notebook</a>'\n",
              "            + ' to learn more about interactive tables.';\n",
              "          element.innerHTML = '';\n",
              "          dataTable['output_type'] = 'display_data';\n",
              "          await google.colab.output.renderOutput(dataTable, element);\n",
              "          const docLink = document.createElement('div');\n",
              "          docLink.innerHTML = docLinkHtml;\n",
              "          element.appendChild(docLink);\n",
              "        }\n",
              "      </script>\n",
              "    </div>\n",
              "  </div>\n",
              "  "
            ]
          },
          "metadata": {},
          "execution_count": 4
        }
      ]
    },
    {
      "cell_type": "code",
      "source": [
        "# Give timestamp millisecond precision and add an attribute to know the time since the trainment start\n",
        "data['timestamp_millis'] = data['timestamp'].dt.round('L')\n",
        "data['timestamp_millis'] = data.apply(\n",
        "    lambda row: row['timestamp_millis'] +\n",
        "        pd.to_timedelta(\n",
        "            np.linspace(50, 950, num=grouped_per_second[grouped_per_second['timestamp'] == row['timestamp']].iloc[0]['identifier'])\n",
        "            [row.name-grouped_per_second[grouped_per_second['timestamp'] == row['timestamp']].iloc[0]['first_index']]\n",
        "            .astype(int),\n",
        "            unit='ms'),\n",
        "    axis=1)\n",
        "\n",
        "data['time_since_start'] = data['timestamp_millis'] - data['identifier'].astype('datetime64[ns]')"
      ],
      "metadata": {
        "id": "L_nDNmjblAkM"
      },
      "execution_count": 5,
      "outputs": []
    },
    {
      "cell_type": "code",
      "source": [
        "data.head()"
      ],
      "metadata": {
        "colab": {
          "base_uri": "https://localhost:8080/",
          "height": 353
        },
        "id": "eu2tytttgjsY",
        "outputId": "d9709199-3012-4fe5-94c4-b8bf38a8e0aa"
      },
      "execution_count": 6,
      "outputs": [
        {
          "output_type": "execute_result",
          "data": {
            "text/plain": [
              "            identifier   kind     pitch      roll       yaw  \\\n",
              "0  24-06-2023 11:34:11  Drive -0.303339 -0.714798 -0.114031   \n",
              "1  24-06-2023 11:34:11  Drive -0.303299 -0.713937 -0.113978   \n",
              "2  24-06-2023 11:34:11  Drive -0.302059 -0.712966 -0.112469   \n",
              "3  24-06-2023 11:34:11  Drive -0.301500 -0.711424 -0.110062   \n",
              "4  24-06-2023 11:34:11  Drive -0.301774 -0.708930 -0.107489   \n",
              "\n",
              "            timestamp  xAcceleration  yAcceleration  zAcceleration  xRotation  \\\n",
              "0 2023-06-24 11:34:11      -0.018703      -0.023211      -0.023211  -0.155816   \n",
              "1 2023-06-24 11:34:11       0.021121      -0.032054      -0.032054   0.090451   \n",
              "2 2023-06-24 11:34:11      -0.011183      -0.004198      -0.004198   0.070849   \n",
              "3 2023-06-24 11:34:11      -0.039289       0.045942       0.045942   0.131693   \n",
              "4 2023-06-24 11:34:11      -0.051615       0.040752       0.040752   0.001550   \n",
              "\n",
              "   yRotation  zRotation        timestamp_millis       time_since_start  \n",
              "0   0.095353   0.022249 2023-06-24 11:34:11.050 0 days 00:00:00.050000  \n",
              "1   0.003979  -0.022444 2023-06-24 11:34:11.131 0 days 00:00:00.131000  \n",
              "2   0.060976   0.057538 2023-06-24 11:34:11.213 0 days 00:00:00.213000  \n",
              "3   0.058357   0.093916 2023-06-24 11:34:11.295 0 days 00:00:00.295000  \n",
              "4   0.138468   0.102855 2023-06-24 11:34:11.377 0 days 00:00:00.377000  "
            ],
            "text/html": [
              "\n",
              "  <div id=\"df-bc6211f6-1883-4733-9b4f-d931332ee12b\">\n",
              "    <div class=\"colab-df-container\">\n",
              "      <div>\n",
              "<style scoped>\n",
              "    .dataframe tbody tr th:only-of-type {\n",
              "        vertical-align: middle;\n",
              "    }\n",
              "\n",
              "    .dataframe tbody tr th {\n",
              "        vertical-align: top;\n",
              "    }\n",
              "\n",
              "    .dataframe thead th {\n",
              "        text-align: right;\n",
              "    }\n",
              "</style>\n",
              "<table border=\"1\" class=\"dataframe\">\n",
              "  <thead>\n",
              "    <tr style=\"text-align: right;\">\n",
              "      <th></th>\n",
              "      <th>identifier</th>\n",
              "      <th>kind</th>\n",
              "      <th>pitch</th>\n",
              "      <th>roll</th>\n",
              "      <th>yaw</th>\n",
              "      <th>timestamp</th>\n",
              "      <th>xAcceleration</th>\n",
              "      <th>yAcceleration</th>\n",
              "      <th>zAcceleration</th>\n",
              "      <th>xRotation</th>\n",
              "      <th>yRotation</th>\n",
              "      <th>zRotation</th>\n",
              "      <th>timestamp_millis</th>\n",
              "      <th>time_since_start</th>\n",
              "    </tr>\n",
              "  </thead>\n",
              "  <tbody>\n",
              "    <tr>\n",
              "      <th>0</th>\n",
              "      <td>24-06-2023 11:34:11</td>\n",
              "      <td>Drive</td>\n",
              "      <td>-0.303339</td>\n",
              "      <td>-0.714798</td>\n",
              "      <td>-0.114031</td>\n",
              "      <td>2023-06-24 11:34:11</td>\n",
              "      <td>-0.018703</td>\n",
              "      <td>-0.023211</td>\n",
              "      <td>-0.023211</td>\n",
              "      <td>-0.155816</td>\n",
              "      <td>0.095353</td>\n",
              "      <td>0.022249</td>\n",
              "      <td>2023-06-24 11:34:11.050</td>\n",
              "      <td>0 days 00:00:00.050000</td>\n",
              "    </tr>\n",
              "    <tr>\n",
              "      <th>1</th>\n",
              "      <td>24-06-2023 11:34:11</td>\n",
              "      <td>Drive</td>\n",
              "      <td>-0.303299</td>\n",
              "      <td>-0.713937</td>\n",
              "      <td>-0.113978</td>\n",
              "      <td>2023-06-24 11:34:11</td>\n",
              "      <td>0.021121</td>\n",
              "      <td>-0.032054</td>\n",
              "      <td>-0.032054</td>\n",
              "      <td>0.090451</td>\n",
              "      <td>0.003979</td>\n",
              "      <td>-0.022444</td>\n",
              "      <td>2023-06-24 11:34:11.131</td>\n",
              "      <td>0 days 00:00:00.131000</td>\n",
              "    </tr>\n",
              "    <tr>\n",
              "      <th>2</th>\n",
              "      <td>24-06-2023 11:34:11</td>\n",
              "      <td>Drive</td>\n",
              "      <td>-0.302059</td>\n",
              "      <td>-0.712966</td>\n",
              "      <td>-0.112469</td>\n",
              "      <td>2023-06-24 11:34:11</td>\n",
              "      <td>-0.011183</td>\n",
              "      <td>-0.004198</td>\n",
              "      <td>-0.004198</td>\n",
              "      <td>0.070849</td>\n",
              "      <td>0.060976</td>\n",
              "      <td>0.057538</td>\n",
              "      <td>2023-06-24 11:34:11.213</td>\n",
              "      <td>0 days 00:00:00.213000</td>\n",
              "    </tr>\n",
              "    <tr>\n",
              "      <th>3</th>\n",
              "      <td>24-06-2023 11:34:11</td>\n",
              "      <td>Drive</td>\n",
              "      <td>-0.301500</td>\n",
              "      <td>-0.711424</td>\n",
              "      <td>-0.110062</td>\n",
              "      <td>2023-06-24 11:34:11</td>\n",
              "      <td>-0.039289</td>\n",
              "      <td>0.045942</td>\n",
              "      <td>0.045942</td>\n",
              "      <td>0.131693</td>\n",
              "      <td>0.058357</td>\n",
              "      <td>0.093916</td>\n",
              "      <td>2023-06-24 11:34:11.295</td>\n",
              "      <td>0 days 00:00:00.295000</td>\n",
              "    </tr>\n",
              "    <tr>\n",
              "      <th>4</th>\n",
              "      <td>24-06-2023 11:34:11</td>\n",
              "      <td>Drive</td>\n",
              "      <td>-0.301774</td>\n",
              "      <td>-0.708930</td>\n",
              "      <td>-0.107489</td>\n",
              "      <td>2023-06-24 11:34:11</td>\n",
              "      <td>-0.051615</td>\n",
              "      <td>0.040752</td>\n",
              "      <td>0.040752</td>\n",
              "      <td>0.001550</td>\n",
              "      <td>0.138468</td>\n",
              "      <td>0.102855</td>\n",
              "      <td>2023-06-24 11:34:11.377</td>\n",
              "      <td>0 days 00:00:00.377000</td>\n",
              "    </tr>\n",
              "  </tbody>\n",
              "</table>\n",
              "</div>\n",
              "      <button class=\"colab-df-convert\" onclick=\"convertToInteractive('df-bc6211f6-1883-4733-9b4f-d931332ee12b')\"\n",
              "              title=\"Convert this dataframe to an interactive table.\"\n",
              "              style=\"display:none;\">\n",
              "        \n",
              "  <svg xmlns=\"http://www.w3.org/2000/svg\" height=\"24px\"viewBox=\"0 0 24 24\"\n",
              "       width=\"24px\">\n",
              "    <path d=\"M0 0h24v24H0V0z\" fill=\"none\"/>\n",
              "    <path d=\"M18.56 5.44l.94 2.06.94-2.06 2.06-.94-2.06-.94-.94-2.06-.94 2.06-2.06.94zm-11 1L8.5 8.5l.94-2.06 2.06-.94-2.06-.94L8.5 2.5l-.94 2.06-2.06.94zm10 10l.94 2.06.94-2.06 2.06-.94-2.06-.94-.94-2.06-.94 2.06-2.06.94z\"/><path d=\"M17.41 7.96l-1.37-1.37c-.4-.4-.92-.59-1.43-.59-.52 0-1.04.2-1.43.59L10.3 9.45l-7.72 7.72c-.78.78-.78 2.05 0 2.83L4 21.41c.39.39.9.59 1.41.59.51 0 1.02-.2 1.41-.59l7.78-7.78 2.81-2.81c.8-.78.8-2.07 0-2.86zM5.41 20L4 18.59l7.72-7.72 1.47 1.35L5.41 20z\"/>\n",
              "  </svg>\n",
              "      </button>\n",
              "      \n",
              "  <style>\n",
              "    .colab-df-container {\n",
              "      display:flex;\n",
              "      flex-wrap:wrap;\n",
              "      gap: 12px;\n",
              "    }\n",
              "\n",
              "    .colab-df-convert {\n",
              "      background-color: #E8F0FE;\n",
              "      border: none;\n",
              "      border-radius: 50%;\n",
              "      cursor: pointer;\n",
              "      display: none;\n",
              "      fill: #1967D2;\n",
              "      height: 32px;\n",
              "      padding: 0 0 0 0;\n",
              "      width: 32px;\n",
              "    }\n",
              "\n",
              "    .colab-df-convert:hover {\n",
              "      background-color: #E2EBFA;\n",
              "      box-shadow: 0px 1px 2px rgba(60, 64, 67, 0.3), 0px 1px 3px 1px rgba(60, 64, 67, 0.15);\n",
              "      fill: #174EA6;\n",
              "    }\n",
              "\n",
              "    [theme=dark] .colab-df-convert {\n",
              "      background-color: #3B4455;\n",
              "      fill: #D2E3FC;\n",
              "    }\n",
              "\n",
              "    [theme=dark] .colab-df-convert:hover {\n",
              "      background-color: #434B5C;\n",
              "      box-shadow: 0px 1px 3px 1px rgba(0, 0, 0, 0.15);\n",
              "      filter: drop-shadow(0px 1px 2px rgba(0, 0, 0, 0.3));\n",
              "      fill: #FFFFFF;\n",
              "    }\n",
              "  </style>\n",
              "\n",
              "      <script>\n",
              "        const buttonEl =\n",
              "          document.querySelector('#df-bc6211f6-1883-4733-9b4f-d931332ee12b button.colab-df-convert');\n",
              "        buttonEl.style.display =\n",
              "          google.colab.kernel.accessAllowed ? 'block' : 'none';\n",
              "\n",
              "        async function convertToInteractive(key) {\n",
              "          const element = document.querySelector('#df-bc6211f6-1883-4733-9b4f-d931332ee12b');\n",
              "          const dataTable =\n",
              "            await google.colab.kernel.invokeFunction('convertToInteractive',\n",
              "                                                     [key], {});\n",
              "          if (!dataTable) return;\n",
              "\n",
              "          const docLinkHtml = 'Like what you see? Visit the ' +\n",
              "            '<a target=\"_blank\" href=https://colab.research.google.com/notebooks/data_table.ipynb>data table notebook</a>'\n",
              "            + ' to learn more about interactive tables.';\n",
              "          element.innerHTML = '';\n",
              "          dataTable['output_type'] = 'display_data';\n",
              "          await google.colab.output.renderOutput(dataTable, element);\n",
              "          const docLink = document.createElement('div');\n",
              "          docLink.innerHTML = docLinkHtml;\n",
              "          element.appendChild(docLink);\n",
              "        }\n",
              "      </script>\n",
              "    </div>\n",
              "  </div>\n",
              "  "
            ]
          },
          "metadata": {},
          "execution_count": 6
        }
      ]
    },
    {
      "cell_type": "markdown",
      "source": [
        "### Window data"
      ],
      "metadata": {
        "id": "e2O3H492x3_k"
      }
    },
    {
      "cell_type": "markdown",
      "source": [
        "We're going to window the data manually. First, let's define a filter for values of xAcceleration near 0. This will help us to identify each movement."
      ],
      "metadata": {
        "id": "OLTUUplnyE3U"
      }
    },
    {
      "cell_type": "code",
      "source": [
        "# Set global attributes\n",
        "data['x_accel_smoothed'] = data.apply(lambda row: 0 if row['xAcceleration'] < 0.1 and row['xAcceleration'] > -0.1 else row['xAcceleration'], axis=1)"
      ],
      "metadata": {
        "id": "0pH_T6FWvYJz"
      },
      "execution_count": 7,
      "outputs": []
    },
    {
      "cell_type": "markdown",
      "source": [
        "Then, we plot this attribute and we can see a pattern for each movement."
      ],
      "metadata": {
        "id": "ZY8Az_10bp3S"
      }
    },
    {
      "cell_type": "code",
      "source": [
        "loc = plticker.MultipleLocator(base=1000000000)\n",
        "sns.set(rc={'figure.figsize':(20,10)})\n",
        "\n",
        "_tmp = data[data['identifier'] == '25-06-2023 09:50:26']\n",
        "\n",
        "axes = sns.lineplot(y='x_accel_smoothed', x='time_since_start', data=_tmp)\n",
        "axes.xaxis.set_major_locator(loc)"
      ],
      "metadata": {
        "colab": {
          "base_uri": "https://localhost:8080/",
          "height": 609
        },
        "id": "Fr07Q3M5XRn_",
        "outputId": "3e7a4ba5-0997-4575-8884-54634212ab25"
      },
      "execution_count": 8,
      "outputs": [
        {
          "output_type": "display_data",
          "data": {
            "text/plain": [
              "<Figure size 2000x1000 with 1 Axes>"
            ],
            "image/png": "[encoded data removed]"
          },
          "metadata": {}
        }
      ]
    },
    {
      "cell_type": "markdown",
      "source": [
        "We define the start and the end of each movement in a file called windows.xlsx, that will be used to split the data."
      ],
      "metadata": {
        "id": "s5orGQOMb5yE"
      }
    },
    {
      "cell_type": "code",
      "source": [
        "windows = pd.read_excel('{}/windows.xlsx'.format(folder))\n",
        "windows"
      ],
      "metadata": {
        "colab": {
          "base_uri": "https://localhost:8080/",
          "height": 419
        },
        "id": "UtTsqGiby_8Q",
        "outputId": "72b7553f-f223-4780-c496-58c7b2ca9f6a"
      },
      "execution_count": 9,
      "outputs": [
        {
          "output_type": "execute_result",
          "data": {
            "text/plain": [
              "             Identifier  From    To      Kind\n",
              "0   2023-06-24 11:34:11  0.60  0.90     Drive\n",
              "1   2023-06-24 11:34:11  0.90  1.20     Drive\n",
              "2   2023-06-24 11:34:11  1.20  1.85     Drive\n",
              "3   2023-06-24 11:34:11  1.85  2.15     Drive\n",
              "4   2023-06-24 11:34:11  2.15  2.45     Drive\n",
              "..                  ...   ...   ...       ...\n",
              "188 2023-06-25 09:50:26  1.05  1.30  Backhand\n",
              "189 2023-06-25 09:50:26  1.30  1.50  Backhand\n",
              "190 2023-06-25 09:50:26  1.50  1.80  Backhand\n",
              "191 2023-06-25 09:50:26  1.80  2.05  Backhand\n",
              "192 2023-06-25 09:50:26  2.05  2.30  Backhand\n",
              "\n",
              "[193 rows x 4 columns]"
            ],
            "text/html": [
              "\n",
              "  <div id=\"df-a0b5a3d7-46f1-488a-bce6-44f6d886b7ea\">\n",
              "    <div class=\"colab-df-container\">\n",
              "      <div>\n",
              "<style scoped>\n",
              "    .dataframe tbody tr th:only-of-type {\n",
              "        vertical-align: middle;\n",
              "    }\n",
              "\n",
              "    .dataframe tbody tr th {\n",
              "        vertical-align: top;\n",
              "    }\n",
              "\n",
              "    .dataframe thead th {\n",
              "        text-align: right;\n",
              "    }\n",
              "</style>\n",
              "<table border=\"1\" class=\"dataframe\">\n",
              "  <thead>\n",
              "    <tr style=\"text-align: right;\">\n",
              "      <th></th>\n",
              "      <th>Identifier</th>\n",
              "      <th>From</th>\n",
              "      <th>To</th>\n",
              "      <th>Kind</th>\n",
              "    </tr>\n",
              "  </thead>\n",
              "  <tbody>\n",
              "    <tr>\n",
              "      <th>0</th>\n",
              "      <td>2023-06-24 11:34:11</td>\n",
              "      <td>0.60</td>\n",
              "      <td>0.90</td>\n",
              "      <td>Drive</td>\n",
              "    </tr>\n",
              "    <tr>\n",
              "      <th>1</th>\n",
              "      <td>2023-06-24 11:34:11</td>\n",
              "      <td>0.90</td>\n",
              "      <td>1.20</td>\n",
              "      <td>Drive</td>\n",
              "    </tr>\n",
              "    <tr>\n",
              "      <th>2</th>\n",
              "      <td>2023-06-24 11:34:11</td>\n",
              "      <td>1.20</td>\n",
              "      <td>1.85</td>\n",
              "      <td>Drive</td>\n",
              "    </tr>\n",
              "    <tr>\n",
              "      <th>3</th>\n",
              "      <td>2023-06-24 11:34:11</td>\n",
              "      <td>1.85</td>\n",
              "      <td>2.15</td>\n",
              "      <td>Drive</td>\n",
              "    </tr>\n",
              "    <tr>\n",
              "      <th>4</th>\n",
              "      <td>2023-06-24 11:34:11</td>\n",
              "      <td>2.15</td>\n",
              "      <td>2.45</td>\n",
              "      <td>Drive</td>\n",
              "    </tr>\n",
              "    <tr>\n",
              "      <th>...</th>\n",
              "      <td>...</td>\n",
              "      <td>...</td>\n",
              "      <td>...</td>\n",
              "      <td>...</td>\n",
              "    </tr>\n",
              "    <tr>\n",
              "      <th>188</th>\n",
              "      <td>2023-06-25 09:50:26</td>\n",
              "      <td>1.05</td>\n",
              "      <td>1.30</td>\n",
              "      <td>Backhand</td>\n",
              "    </tr>\n",
              "    <tr>\n",
              "      <th>189</th>\n",
              "      <td>2023-06-25 09:50:26</td>\n",
              "      <td>1.30</td>\n",
              "      <td>1.50</td>\n",
              "      <td>Backhand</td>\n",
              "    </tr>\n",
              "    <tr>\n",
              "      <th>190</th>\n",
              "      <td>2023-06-25 09:50:26</td>\n",
              "      <td>1.50</td>\n",
              "      <td>1.80</td>\n",
              "      <td>Backhand</td>\n",
              "    </tr>\n",
              "    <tr>\n",
              "      <th>191</th>\n",
              "      <td>2023-06-25 09:50:26</td>\n",
              "      <td>1.80</td>\n",
              "      <td>2.05</td>\n",
              "      <td>Backhand</td>\n",
              "    </tr>\n",
              "    <tr>\n",
              "      <th>192</th>\n",
              "      <td>2023-06-25 09:50:26</td>\n",
              "      <td>2.05</td>\n",
              "      <td>2.30</td>\n",
              "      <td>Backhand</td>\n",
              "    </tr>\n",
              "  </tbody>\n",
              "</table>\n",
              "<p>193 rows × 4 columns</p>\n",
              "</div>\n",
              "      <button class=\"colab-df-convert\" onclick=\"convertToInteractive('df-a0b5a3d7-46f1-488a-bce6-44f6d886b7ea')\"\n",
              "              title=\"Convert this dataframe to an interactive table.\"\n",
              "              style=\"display:none;\">\n",
              "        \n",
              "  <svg xmlns=\"http://www.w3.org/2000/svg\" height=\"24px\"viewBox=\"0 0 24 24\"\n",
              "       width=\"24px\">\n",
              "    <path d=\"M0 0h24v24H0V0z\" fill=\"none\"/>\n",
              "    <path d=\"M18.56 5.44l.94 2.06.94-2.06 2.06-.94-2.06-.94-.94-2.06-.94 2.06-2.06.94zm-11 1L8.5 8.5l.94-2.06 2.06-.94-2.06-.94L8.5 2.5l-.94 2.06-2.06.94zm10 10l.94 2.06.94-2.06 2.06-.94-2.06-.94-.94-2.06-.94 2.06-2.06.94z\"/><path d=\"M17.41 7.96l-1.37-1.37c-.4-.4-.92-.59-1.43-.59-.52 0-1.04.2-1.43.59L10.3 9.45l-7.72 7.72c-.78.78-.78 2.05 0 2.83L4 21.41c.39.39.9.59 1.41.59.51 0 1.02-.2 1.41-.59l7.78-7.78 2.81-2.81c.8-.78.8-2.07 0-2.86zM5.41 20L4 18.59l7.72-7.72 1.47 1.35L5.41 20z\"/>\n",
              "  </svg>\n",
              "      </button>\n",
              "      \n",
              "  <style>\n",
              "    .colab-df-container {\n",
              "      display:flex;\n",
              "      flex-wrap:wrap;\n",
              "      gap: 12px;\n",
              "    }\n",
              "\n",
              "    .colab-df-convert {\n",
              "      background-color: #E8F0FE;\n",
              "      border: none;\n",
              "      border-radius: 50%;\n",
              "      cursor: pointer;\n",
              "      display: none;\n",
              "      fill: #1967D2;\n",
              "      height: 32px;\n",
              "      padding: 0 0 0 0;\n",
              "      width: 32px;\n",
              "    }\n",
              "\n",
              "    .colab-df-convert:hover {\n",
              "      background-color: #E2EBFA;\n",
              "      box-shadow: 0px 1px 2px rgba(60, 64, 67, 0.3), 0px 1px 3px 1px rgba(60, 64, 67, 0.15);\n",
              "      fill: #174EA6;\n",
              "    }\n",
              "\n",
              "    [theme=dark] .colab-df-convert {\n",
              "      background-color: #3B4455;\n",
              "      fill: #D2E3FC;\n",
              "    }\n",
              "\n",
              "    [theme=dark] .colab-df-convert:hover {\n",
              "      background-color: #434B5C;\n",
              "      box-shadow: 0px 1px 3px 1px rgba(0, 0, 0, 0.15);\n",
              "      filter: drop-shadow(0px 1px 2px rgba(0, 0, 0, 0.3));\n",
              "      fill: #FFFFFF;\n",
              "    }\n",
              "  </style>\n",
              "\n",
              "      <script>\n",
              "        const buttonEl =\n",
              "          document.querySelector('#df-a0b5a3d7-46f1-488a-bce6-44f6d886b7ea button.colab-df-convert');\n",
              "        buttonEl.style.display =\n",
              "          google.colab.kernel.accessAllowed ? 'block' : 'none';\n",
              "\n",
              "        async function convertToInteractive(key) {\n",
              "          const element = document.querySelector('#df-a0b5a3d7-46f1-488a-bce6-44f6d886b7ea');\n",
              "          const dataTable =\n",
              "            await google.colab.kernel.invokeFunction('convertToInteractive',\n",
              "                                                     [key], {});\n",
              "          if (!dataTable) return;\n",
              "\n",
              "          const docLinkHtml = 'Like what you see? Visit the ' +\n",
              "            '<a target=\"_blank\" href=https://colab.research.google.com/notebooks/data_table.ipynb>data table notebook</a>'\n",
              "            + ' to learn more about interactive tables.';\n",
              "          element.innerHTML = '';\n",
              "          dataTable['output_type'] = 'display_data';\n",
              "          await google.colab.output.renderOutput(dataTable, element);\n",
              "          const docLink = document.createElement('div');\n",
              "          docLink.innerHTML = docLinkHtml;\n",
              "          element.appendChild(docLink);\n",
              "        }\n",
              "      </script>\n",
              "    </div>\n",
              "  </div>\n",
              "  "
            ]
          },
          "metadata": {},
          "execution_count": 9
        }
      ]
    },
    {
      "cell_type": "code",
      "source": [
        "splitted_data = []\n",
        "for index, row in windows.iterrows():\n",
        "    d = data[\n",
        "        (data['identifier'] == row['Identifier'].strftime('%d-%m-%Y %H:%M:%S')) &\n",
        "        (data['time_since_start'] >= pd.to_timedelta(row['From']*10, unit='S')) &\n",
        "        (data['time_since_start'] < pd.to_timedelta(row['To']*10, unit='S'))\n",
        "        ]\n",
        "    splitted_data.append(d)\n",
        "\n",
        "print(f'Total movements: {len(splitted_data)}')"
      ],
      "metadata": {
        "id": "uY29XYgv7_ya",
        "colab": {
          "base_uri": "https://localhost:8080/"
        },
        "outputId": "69b5799d-3eb4-42c7-b868-2857eb9749c7"
      },
      "execution_count": 10,
      "outputs": [
        {
          "output_type": "stream",
          "name": "stdout",
          "text": [
            "Total movements: 193\n"
          ]
        }
      ]
    },
    {
      "cell_type": "markdown",
      "source": [
        "### Sum up features"
      ],
      "metadata": {
        "id": "A4aDVu82lmNH"
      }
    },
    {
      "cell_type": "markdown",
      "source": [
        "We have a really low number of samples to train a model. That's why we should build some features to avoid using a Neural Network model for this time series data.\n",
        "\n",
        "We're going to use the mean of each attribute for each movement."
      ],
      "metadata": {
        "id": "HRbFwv0elrG_"
      }
    },
    {
      "cell_type": "code",
      "source": [
        "numeric_columns = ['xAcceleration', 'yAcceleration', 'zAcceleration', 'pitch', 'yaw', 'roll', 'xRotation', 'yRotation', 'zRotation']\n",
        "columns = numeric_columns + ['kind']\n",
        "\n",
        "grouped_movement_data = pd.DataFrame([], columns=columns)\n",
        "\n",
        "for index, movement in enumerate(splitted_data):\n",
        "    d = []\n",
        "    for column in numeric_columns:\n",
        "        d.append(movement[column].mean())\n",
        "    d.append(movement['kind'].iloc[0])\n",
        "    grouped_movement_data = pd.concat([grouped_movement_data, pd.DataFrame([d], columns=columns)], ignore_index=True)"
      ],
      "metadata": {
        "id": "6977mpBDd-Sa"
      },
      "execution_count": 11,
      "outputs": []
    },
	{
      "cell_type": "code",
      "source": [
        "grouped_movement_data.groupby('kind')['kind'].hist()"
      ],
      "metadata": {
        "id": "UEXkOAuymQp8"
      },
      "execution_count": null,
      "outputs": []
    },
    {
      "cell_type": "markdown",
      "source": [
        "### Split data into train and test sets"
      ],
      "metadata": {
        "id": "trfaOn2DmUhG"
      }
    },
    {
      "cell_type": "markdown",
      "source": [
        "We're using the method **train_test_split** from **sklearn.model_selection** to automatically select the train and test sets from the whole data. It shuffles the samples and select a given percentage for testing."
      ],
      "metadata": {
        "id": "A459cOwOmcbd"
      }
    },
    {
      "cell_type": "code",
      "source": [
        "X_train, X_test, y_train, y_test = train_test_split(grouped_movement_data[numeric_columns], grouped_movement_data['kind'], test_size=0.2)\n",
        "y_train.hist()\n",
        "y_test.hist()"
      ],
      "metadata": {
        "id": "R8q47aDhXSws",
        "colab": {
          "base_uri": "https://localhost:8080/",
          "height": 620
        },
        "outputId": "62987a0b-5ebe-4e88-f34c-862edbf4936e"
      },
      "execution_count": 19,
      "outputs": [
        {
          "output_type": "execute_result",
          "data": {
            "text/plain": [
              "<Axes: >"
            ]
          },
          "metadata": {},
          "execution_count": 19
        },
        {
          "output_type": "display_data",
          "data": {
            "text/plain": [
              "<Figure size 2000x1000 with 1 Axes>"
            ],
            "image/png": "[encoded data removed]"
          },
          "metadata": {}
        }
      ]
    },
    {
      "cell_type": "markdown",
      "source": [
        "## Build the model"
      ],
      "metadata": {
        "id": "TGDtb9_em_w6"
      }
    },
    {
      "cell_type": "markdown",
      "source": [
        "We're going to check the accuracy given from different algorithms: kNN, SVC and Decision Tree."
      ],
      "metadata": {
        "id": "Z78cWlbJnhgj"
      }
    },
    {
      "cell_type": "code",
      "source": [
        "# kNN model\n",
        "nbrs = KNeighborsClassifier(n_neighbors=2).fit(X_train, y_train)\n",
        "y_pred = nbrs.predict(X_test)\n",
        "\n",
        "print(f'kNN gives an accuracy of {accuracy_score(y_test, y_pred)*100}%')"
      ],
      "metadata": {
        "colab": {
          "base_uri": "https://localhost:8080/"
        },
        "id": "zodiuUZantgx",
        "outputId": "2f197d97-5b8e-4f35-ebb2-ddd18d1f1370"
      },
      "execution_count": 21,
      "outputs": [
        {
          "output_type": "stream",
          "name": "stdout",
          "text": [
            "kNN gives an accuracy of 100.0%\n"
          ]
        }
      ]
    },
    {
      "cell_type": "code",
      "source": [
        "# SVC model\n",
        "svc = SVC()\n",
        "svc.fit(X_train, y_train)\n",
        "\n",
        "y_pred = svc.predict(X_test)\n",
        "print(f'SVC gives an accuracy of {accuracy_score(y_test, y_pred)*100}%')"
      ],
      "metadata": {
        "colab": {
          "base_uri": "https://localhost:8080/"
        },
        "id": "SY_5t-S2_jzN",
        "outputId": "dc1ef1c8-fb38-406a-bfdb-1f1417fe820a"
      },
      "execution_count": 22,
      "outputs": [
        {
          "output_type": "stream",
          "name": "stdout",
          "text": [
            "SVC gives an accuracy of 100.0%\n"
          ]
        }
      ]
    },
    {
      "cell_type": "code",
      "source": [
        "# Decision Tree model\n",
        "tree = DecisionTreeClassifier()\n",
        "tree = tree.fit(X_train, y_train)\n",
        "\n",
        "y_pred = tree.predict(X_test)\n",
        "y_probab = tree.predict_proba(X_test)\n",
        "\n",
        "accuracy_score(y_test, y_pred)\n",
        "print(f'Decision Tree gives an accuracy of {accuracy_score(y_test, y_pred)*100}%')\n",
        "\n",
        "cm = confusion_matrix(y_test, y_pred, labels=tree.classes_)\n",
        "cmd = ConfusionMatrixDisplay(confusion_matrix=cm, display_labels=tree.classes_)\n",
        "fig, ax = plt.subplots(figsize=(5,5))\n",
        "cmd.plot(ax=ax)\n",
        "plt.grid(False)\n",
        "plt.show()"
      ],
      "metadata": {
        "colab": {
          "base_uri": "https://localhost:8080/",
          "height": 459
        },
        "id": "O-5esmidBt1Z",
        "outputId": "e1a16d4a-0dbe-456e-a6cf-7d381d2ef506"
      },
      "execution_count": 24,
      "outputs": [
        {
          "output_type": "stream",
          "name": "stdout",
          "text": [
            "Decision Tree gives an accuracy of 100.0%\n"
          ]
        },
        {
          "output_type": "display_data",
          "data": {
            "text/plain": [
              "<Figure size 500x500 with 2 Axes>"
            ],
            "image/png": "[encoded data removed]"
          },
          "metadata": {}
        }
      ]
    },
    {
      "cell_type": "markdown",
      "source": [
        "## Conclusion"
      ],
      "metadata": {
        "id": "-kTNlwJPoZ60"
      }
    },
    {
      "cell_type": "markdown",
      "source": [
        "All three models result in an accuracy near the 100%. Features selected to build these models are classifying correctly each tennis stroke."
      ],
      "metadata": {
        "id": "rku2Ncc5ogUg"
      }
    }
  ]
}
